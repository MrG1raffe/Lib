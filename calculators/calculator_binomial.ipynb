{
 "cells": [
  {
   "attachments": {},
   "cell_type": "markdown",
   "metadata": {},
   "source": [
    "## Binomial model"
   ]
  },
  {
   "cell_type": "code",
   "execution_count": 1,
   "metadata": {},
   "outputs": [],
   "source": [
    "import sys\n",
    "sys.path.insert(0, '../')\n",
    "\n",
    "import numpy as np\n",
    "from Binomial import Binomial"
   ]
  },
  {
   "attachments": {},
   "cell_type": "markdown",
   "metadata": {},
   "source": [
    "### Vanilla option"
   ]
  },
  {
   "cell_type": "code",
   "execution_count": 2,
   "metadata": {},
   "outputs": [],
   "source": [
    "T = 10\n",
    "S_0=10.09\n",
    "K=99.12\n",
    "r=0.004\n",
    "x=15.98 / 100\n",
    "y=-13.78 / 100\n",
    "\n",
    "flag = 'p'"
   ]
  },
  {
   "cell_type": "code",
   "execution_count": 3,
   "metadata": {},
   "outputs": [
    {
     "name": "stdout",
     "output_type": "stream",
     "text": [
      "Analytic price: 85.15104793213763\n"
     ]
    }
   ],
   "source": [
    "model = Binomial(u=x, d=y, r=r)\n",
    "print('Analytic price:', model.vanilla_price(T, K, S_0, flag))"
   ]
  },
  {
   "cell_type": "code",
   "execution_count": 4,
   "metadata": {},
   "outputs": [
    {
     "data": {
      "text/plain": [
       "(0.476478494623656, 0.523521505376344)"
      ]
     },
     "execution_count": 4,
     "metadata": {},
     "output_type": "execute_result"
    }
   ],
   "source": [
    "model._risk_neutral_proba()"
   ]
  },
  {
   "attachments": {},
   "cell_type": "markdown",
   "metadata": {},
   "source": [
    "Monte Carlo check"
   ]
  },
  {
   "cell_type": "code",
   "execution_count": 5,
   "metadata": {},
   "outputs": [
    {
     "name": "stdout",
     "output_type": "stream",
     "text": [
      "Monte Carlo price: 85.1511694999468\n"
     ]
    }
   ],
   "source": [
    "rng = np.random.default_rng(seed=0xB0BAC0BA)\n",
    "p, q = model._risk_neutral_proba()\n",
    "\n",
    "n_sample = 10**7\n",
    "steps_up = rng.binomial(n=T, p=p, size=n_sample)\n",
    "S = S_0 * (1 + x)**(steps_up) * (1 + y)**(T - steps_up)\n",
    "print('Monte Carlo price:', np.mean(np.maximum(K - S, 0) / (1 + r)**T))"
   ]
  },
  {
   "attachments": {},
   "cell_type": "markdown",
   "metadata": {},
   "source": [
    "### European option with arbitrary payoff"
   ]
  },
  {
   "cell_type": "code",
   "execution_count": 6,
   "metadata": {},
   "outputs": [],
   "source": [
    "T = 5\n",
    "S_0=9.98\n",
    "K=100.90\n",
    "r=0.003\n",
    "x=2.04 * 0.01\n",
    "y=-1.81 * 0.01\n",
    "\n",
    "payoff = lambda x: np.maximum(x**2 - K, 0)"
   ]
  },
  {
   "cell_type": "code",
   "execution_count": 7,
   "metadata": {},
   "outputs": [
    {
     "data": {
      "text/plain": [
       "4.620710809731398"
      ]
     },
     "execution_count": 7,
     "metadata": {},
     "output_type": "execute_result"
    }
   ],
   "source": [
    "model = Binomial(u=x, d=y, r=r)\n",
    "model.european_option_price(T, S_0, payoff)"
   ]
  },
  {
   "attachments": {},
   "cell_type": "markdown",
   "metadata": {},
   "source": [
    "### American option"
   ]
  },
  {
   "cell_type": "code",
   "execution_count": 6,
   "metadata": {},
   "outputs": [],
   "source": [
    "T = 12\n",
    "S_0=100.56\n",
    "K=99.99\n",
    "r=0.0001\n",
    "x=8.75\n",
    "y=8.05\n",
    "\n",
    "u = x / 100\n",
    "d = -y / 100\n",
    "flag = 'p'\n",
    "style = 'american'"
   ]
  },
  {
   "cell_type": "code",
   "execution_count": 7,
   "metadata": {},
   "outputs": [
    {
     "name": "stdout",
     "output_type": "stream",
     "text": [
      "Analytic price: 11.065306540079064\n"
     ]
    }
   ],
   "source": [
    "model = Binomial(u=u, d=d, r=r)\n",
    "print('Analytic price:', model.vanilla_price(T, K, S_0, flag, style=style))"
   ]
  }
 ],
 "metadata": {
  "kernelspec": {
   "display_name": "base",
   "language": "python",
   "name": "python3"
  },
  "language_info": {
   "codemirror_mode": {
    "name": "ipython",
    "version": 3
   },
   "file_extension": ".py",
   "mimetype": "text/x-python",
   "name": "python",
   "nbconvert_exporter": "python",
   "pygments_lexer": "ipython3",
   "version": "3.8.5"
  },
  "orig_nbformat": 4
 },
 "nbformat": 4,
 "nbformat_minor": 2
}
