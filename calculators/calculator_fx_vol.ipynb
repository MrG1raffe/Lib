{
 "cells": [
  {
   "cell_type": "code",
   "execution_count": 7,
   "metadata": {},
   "outputs": [],
   "source": [
    "import sys\n",
    "sys.path.insert(0, '../')\n",
    "\n",
    "import pandas as pd\n",
    "import numpy as np\n",
    "from scipy.interpolate import interp1d\n",
    "from scipy.optimize import fsolve\n",
    "from Black76 import Black76"
   ]
  },
  {
   "cell_type": "code",
   "execution_count": 10,
   "metadata": {},
   "outputs": [
    {
     "data": {
      "text/html": [
       "<div>\n",
       "<style scoped>\n",
       "    .dataframe tbody tr th:only-of-type {\n",
       "        vertical-align: middle;\n",
       "    }\n",
       "\n",
       "    .dataframe tbody tr th {\n",
       "        vertical-align: top;\n",
       "    }\n",
       "\n",
       "    .dataframe thead th {\n",
       "        text-align: right;\n",
       "    }\n",
       "</style>\n",
       "<table border=\"1\" class=\"dataframe\">\n",
       "  <thead>\n",
       "    <tr style=\"text-align: right;\">\n",
       "      <th></th>\n",
       "      <th>Strike</th>\n",
       "      <th>IV</th>\n",
       "    </tr>\n",
       "  </thead>\n",
       "  <tbody>\n",
       "    <tr>\n",
       "      <th>0</th>\n",
       "      <td>33.683666</td>\n",
       "      <td>0.970740</td>\n",
       "    </tr>\n",
       "    <tr>\n",
       "      <th>1</th>\n",
       "      <td>33.778207</td>\n",
       "      <td>0.970035</td>\n",
       "    </tr>\n",
       "    <tr>\n",
       "      <th>2</th>\n",
       "      <td>33.873013</td>\n",
       "      <td>0.969329</td>\n",
       "    </tr>\n",
       "    <tr>\n",
       "      <th>3</th>\n",
       "      <td>33.968086</td>\n",
       "      <td>0.968623</td>\n",
       "    </tr>\n",
       "    <tr>\n",
       "      <th>4</th>\n",
       "      <td>34.063425</td>\n",
       "      <td>0.967917</td>\n",
       "    </tr>\n",
       "    <tr>\n",
       "      <th>...</th>\n",
       "      <td>...</td>\n",
       "      <td>...</td>\n",
       "    </tr>\n",
       "    <tr>\n",
       "      <th>995</th>\n",
       "      <td>547.740597</td>\n",
       "      <td>0.580842</td>\n",
       "    </tr>\n",
       "    <tr>\n",
       "      <th>996</th>\n",
       "      <td>549.277959</td>\n",
       "      <td>0.581292</td>\n",
       "    </tr>\n",
       "    <tr>\n",
       "      <th>997</th>\n",
       "      <td>550.819636</td>\n",
       "      <td>0.581742</td>\n",
       "    </tr>\n",
       "    <tr>\n",
       "      <th>998</th>\n",
       "      <td>552.365641</td>\n",
       "      <td>0.582192</td>\n",
       "    </tr>\n",
       "    <tr>\n",
       "      <th>999</th>\n",
       "      <td>553.915984</td>\n",
       "      <td>0.582643</td>\n",
       "    </tr>\n",
       "  </tbody>\n",
       "</table>\n",
       "<p>1000 rows × 2 columns</p>\n",
       "</div>"
      ],
      "text/plain": [
       "         Strike        IV\n",
       "0     33.683666  0.970740\n",
       "1     33.778207  0.970035\n",
       "2     33.873013  0.969329\n",
       "3     33.968086  0.968623\n",
       "4     34.063425  0.967917\n",
       "..          ...       ...\n",
       "995  547.740597  0.580842\n",
       "996  549.277959  0.581292\n",
       "997  550.819636  0.581742\n",
       "998  552.365641  0.582192\n",
       "999  553.915984  0.582643\n",
       "\n",
       "[1000 rows x 2 columns]"
      ]
     },
     "execution_count": 10,
     "metadata": {},
     "output_type": "execute_result"
    }
   ],
   "source": [
    "df = pd.read_csv('../data/data_but.csv', sep=';')\n",
    "df.drop(columns=['Unnamed: 2'], inplace=True)\n",
    "df"
   ]
  },
  {
   "attachments": {},
   "cell_type": "markdown",
   "metadata": {},
   "source": [
    "## ToDo: Rewrite as a class VolSmile or Volsurface."
   ]
  },
  {
   "cell_type": "code",
   "execution_count": 11,
   "metadata": {},
   "outputs": [],
   "source": [
    "T=0.744000\n",
    "F0=136.594\n",
    "flag = 'c'\n",
    "target_delta = 0.25"
   ]
  },
  {
   "cell_type": "code",
   "execution_count": 12,
   "metadata": {},
   "outputs": [],
   "source": [
    "IV_interp = interp1d(df.Strike, df.IV)\n",
    "\n",
    "def get_vol_from_delta(\n",
    "    delta: float\n",
    "):\n",
    "    def BS_delta(K, flag):\n",
    "        return Black76(IV_interp(K)).delta(T, K, F0, flag)\n",
    "\n",
    "    K_target = fsolve(\n",
    "        func=lambda x: BS_delta(x, flag) - delta, \n",
    "        x0=F0\n",
    "    )\n",
    "    return IV_interp(K_target)[0]\n",
    "\n",
    "def risk_reversal():\n",
    "    return get_vol_from_delta(0.25) - get_vol_from_delta(0.75)\n",
    "\n",
    "def butterfly():\n",
    "    return 0.5 * (get_vol_from_delta(0.25) + get_vol_from_delta(0.75)) - get_vol_from_delta(0.5)"
   ]
  },
  {
   "cell_type": "code",
   "execution_count": 13,
   "metadata": {},
   "outputs": [
    {
     "name": "stdout",
     "output_type": "stream",
     "text": [
      "25% Delta vol = 0.4961605511851737\n"
     ]
    }
   ],
   "source": [
    "print('25% Delta vol =', get_vol_from_delta(target_delta))"
   ]
  },
  {
   "cell_type": "code",
   "execution_count": 14,
   "metadata": {},
   "outputs": [
    {
     "name": "stdout",
     "output_type": "stream",
     "text": [
      "Risk reversal = -0.13934496505169408\n",
      "Butterfly = 0.022218984776519513\n"
     ]
    }
   ],
   "source": [
    "print('Risk reversal =', risk_reversal())\n",
    "print('Butterfly =', butterfly())"
   ]
  }
 ],
 "metadata": {
  "kernelspec": {
   "display_name": "base",
   "language": "python",
   "name": "python3"
  },
  "language_info": {
   "codemirror_mode": {
    "name": "ipython",
    "version": 3
   },
   "file_extension": ".py",
   "mimetype": "text/x-python",
   "name": "python",
   "nbconvert_exporter": "python",
   "pygments_lexer": "ipython3",
   "version": "3.8.5"
  },
  "orig_nbformat": 4
 },
 "nbformat": 4,
 "nbformat_minor": 2
}
