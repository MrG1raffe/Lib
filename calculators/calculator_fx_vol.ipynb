{
 "cells": [
  {
   "cell_type": "code",
   "execution_count": 1,
   "metadata": {},
   "outputs": [],
   "source": [
    "import sys\n",
    "sys.path.insert(0, '../')\n",
    "\n",
    "import pandas as pd\n",
    "import numpy as np\n",
    "from scipy.interpolate import interp1d\n",
    "from scipy.optimize import fsolve\n",
    "from Black76 import Black76"
   ]
  },
  {
   "cell_type": "code",
   "execution_count": 3,
   "metadata": {},
   "outputs": [
    {
     "data": {
      "text/html": [
       "<div>\n",
       "<style scoped>\n",
       "    .dataframe tbody tr th:only-of-type {\n",
       "        vertical-align: middle;\n",
       "    }\n",
       "\n",
       "    .dataframe tbody tr th {\n",
       "        vertical-align: top;\n",
       "    }\n",
       "\n",
       "    .dataframe thead th {\n",
       "        text-align: right;\n",
       "    }\n",
       "</style>\n",
       "<table border=\"1\" class=\"dataframe\">\n",
       "  <thead>\n",
       "    <tr style=\"text-align: right;\">\n",
       "      <th></th>\n",
       "      <th>Strike</th>\n",
       "      <th>IV</th>\n",
       "    </tr>\n",
       "  </thead>\n",
       "  <tbody>\n",
       "    <tr>\n",
       "      <th>0</th>\n",
       "      <td>34.381042</td>\n",
       "      <td>1.565449</td>\n",
       "    </tr>\n",
       "    <tr>\n",
       "      <th>1</th>\n",
       "      <td>34.477540</td>\n",
       "      <td>1.564397</td>\n",
       "    </tr>\n",
       "    <tr>\n",
       "      <th>2</th>\n",
       "      <td>34.574310</td>\n",
       "      <td>1.563344</td>\n",
       "    </tr>\n",
       "    <tr>\n",
       "      <th>3</th>\n",
       "      <td>34.671351</td>\n",
       "      <td>1.562290</td>\n",
       "    </tr>\n",
       "    <tr>\n",
       "      <th>4</th>\n",
       "      <td>34.768664</td>\n",
       "      <td>1.561236</td>\n",
       "    </tr>\n",
       "    <tr>\n",
       "      <th>...</th>\n",
       "      <td>...</td>\n",
       "      <td>...</td>\n",
       "    </tr>\n",
       "    <tr>\n",
       "      <th>995</th>\n",
       "      <td>559.080849</td>\n",
       "      <td>1.184723</td>\n",
       "    </tr>\n",
       "    <tr>\n",
       "      <th>996</th>\n",
       "      <td>560.650040</td>\n",
       "      <td>1.185899</td>\n",
       "    </tr>\n",
       "    <tr>\n",
       "      <th>997</th>\n",
       "      <td>562.223636</td>\n",
       "      <td>1.187074</td>\n",
       "    </tr>\n",
       "    <tr>\n",
       "      <th>998</th>\n",
       "      <td>563.801648</td>\n",
       "      <td>1.188250</td>\n",
       "    </tr>\n",
       "    <tr>\n",
       "      <th>999</th>\n",
       "      <td>565.384090</td>\n",
       "      <td>1.189425</td>\n",
       "    </tr>\n",
       "  </tbody>\n",
       "</table>\n",
       "<p>1000 rows × 2 columns</p>\n",
       "</div>"
      ],
      "text/plain": [
       "         Strike        IV\n",
       "0     34.381042  1.565449\n",
       "1     34.477540  1.564397\n",
       "2     34.574310  1.563344\n",
       "3     34.671351  1.562290\n",
       "4     34.768664  1.561236\n",
       "..          ...       ...\n",
       "995  559.080849  1.184723\n",
       "996  560.650040  1.185899\n",
       "997  562.223636  1.187074\n",
       "998  563.801648  1.188250\n",
       "999  565.384090  1.189425\n",
       "\n",
       "[1000 rows x 2 columns]"
      ]
     },
     "execution_count": 3,
     "metadata": {},
     "output_type": "execute_result"
    }
   ],
   "source": [
    "df = pd.read_csv('../data/data_fx_vol.csv', sep=';')\n",
    "df.drop(columns=['Unnamed: 2'], inplace=True)\n",
    "df"
   ]
  },
  {
   "attachments": {},
   "cell_type": "markdown",
   "metadata": {},
   "source": [
    "## ToDo: Rewrite as a class VolSmile or Volsurface."
   ]
  },
  {
   "cell_type": "code",
   "execution_count": 7,
   "metadata": {},
   "outputs": [],
   "source": [
    "T=0.667000\n",
    "F0=80.155\n",
    "flag = 'c'\n",
    "target_delta = 0.25"
   ]
  },
  {
   "cell_type": "code",
   "execution_count": 8,
   "metadata": {},
   "outputs": [],
   "source": [
    "IV_interp = interp1d(df.Strike, df.IV)\n",
    "\n",
    "def get_vol_from_delta(\n",
    "    delta: float\n",
    "):\n",
    "    def BS_delta(K, flag):\n",
    "        return Black76(IV_interp(K)).delta(T, K, F0, flag)\n",
    "\n",
    "    K_target = fsolve(\n",
    "        func=lambda x: BS_delta(x, flag) - delta, \n",
    "        x0=F0\n",
    "    )\n",
    "    return IV_interp(K_target)[0]\n",
    "\n",
    "def risk_reversal():\n",
    "    return get_vol_from_delta(0.25) - get_vol_from_delta(0.75)\n",
    "\n",
    "def butterfly():\n",
    "    return 0.5 * (get_vol_from_delta(0.25) + get_vol_from_delta(0.75)) - get_vol_from_delta(0.5)"
   ]
  },
  {
   "cell_type": "code",
   "execution_count": 9,
   "metadata": {},
   "outputs": [
    {
     "name": "stdout",
     "output_type": "stream",
     "text": [
      "25% Delta vol = 0.4637207954564959\n"
     ]
    }
   ],
   "source": [
    "print('25% Delta vol =', get_vol_from_delta(target_delta))"
   ]
  },
  {
   "cell_type": "code",
   "execution_count": 10,
   "metadata": {},
   "outputs": [
    {
     "name": "stdout",
     "output_type": "stream",
     "text": [
      "Risk reversal = -0.046435550330068964\n",
      "Butterfly = 0.01722269654973868\n"
     ]
    }
   ],
   "source": [
    "print('Risk reversal =', risk_reversal())\n",
    "print('Butterfly =', butterfly())"
   ]
  }
 ],
 "metadata": {
  "kernelspec": {
   "display_name": "base",
   "language": "python",
   "name": "python3"
  },
  "language_info": {
   "codemirror_mode": {
    "name": "ipython",
    "version": 3
   },
   "file_extension": ".py",
   "mimetype": "text/x-python",
   "name": "python",
   "nbconvert_exporter": "python",
   "pygments_lexer": "ipython3",
   "version": "3.8.5"
  },
  "orig_nbformat": 4
 },
 "nbformat": 4,
 "nbformat_minor": 2
}
