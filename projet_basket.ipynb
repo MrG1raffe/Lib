{
 "cells": [
  {
   "attachments": {},
   "cell_type": "markdown",
   "id": "afaff392-f728-42dc-8ebb-f7fcfca6e09d",
   "metadata": {},
   "source": [
    "<div style=\"text-align: center; font-weight: bold; font-size: 200%\">Projet - Options basket</div><br />\n",
    "\n",
    "_A faire pour lundi 16 octobre_"
   ]
  },
  {
   "cell_type": "code",
   "execution_count": 1,
   "id": "73726bac-60ac-415a-a137-cc54dadefdc9",
   "metadata": {},
   "outputs": [],
   "source": [
    "import numpy as np\n",
    "import scipy.stats as sps\n",
    "import pandas as pd\n",
    "import matplotlib.pyplot as plt\n",
    "import seaborn as sns\n",
    "sns.set_theme()\n",
    "from numpy.random import default_rng, SeedSequence\n",
    "\n",
    "sq = SeedSequence()\n",
    "rng = default_rng(sq)"
   ]
  },
  {
   "attachments": {},
   "cell_type": "markdown",
   "id": "a8a2c1a2-afca-4115-ad23-eededf955886",
   "metadata": {},
   "source": [
    "# Options basket"
   ]
  },
  {
   "attachments": {},
   "cell_type": "markdown",
   "id": "4d349c09-6e8f-40a1-abc9-a7642aedf064",
   "metadata": {},
   "source": [
    "On considère $d \\ge 2$ actifs financiers dont la loi à l'instant $T > 0$ est modélisée par une loi log-normale c'est à dire \n",
    "$$\n",
    "    \\forall i \\in \\{1,\\dots,d\\}, \\quad\n",
    "    S^i_T = S^i_0 \\exp\\Bigl( \\bigl(r-\\frac{\\sigma_i^2}{2}\\bigr) T + \\sigma_i \\sqrt{T} \\tilde G_i \\Bigr)\n",
    "$$\n",
    "où le vecteur $(\\tilde G_1,\\dots, \\tilde G_d)$ est gaussien centré de matrice de covariance $\\Sigma$ et les constantes $r > 0$, $\\sigma_i > 0$ sont fixées. Il s'agit d'actifs financiers $(S^i_t)_{t \\in [0,T]}$, $1 \\le i \\le d$, modélisés par un processus de Black-Scholes multidimensionnel. On introduit la matrice $L$ triangulaire inférieure obtenue par la décomposition de Cholesky de la matrice $\\Sigma = L L^\\top$. \n",
    "\n",
    "A l'aide de cette matrice $L$, on définit la fonction $\\Phi:\\mathbf{R}^d \\to \\mathbf{R}^d$ telle que \n",
    "$$\n",
    "    (S^1_T, \\dots, S^d_T) = \\Phi(G_1, \\dots, G_d) \\quad \\text{ou encore} \\quad S^i_T = \\Phi_i(G_1, \\dots, G_d)\n",
    "$$\n",
    "où $(G_1, \\dots, G_d) \\sim \\mathcal{N}(0, I_d)$ (l'égalité précédente est à considérer en loi)."
   ]
  },
  {
   "attachments": {},
   "cell_type": "markdown",
   "id": "76d91f13-d471-4e4b-8ccc-ef807ec398cc",
   "metadata": {},
   "source": [
    "## Approximation Monte Carlo"
   ]
  },
  {
   "attachments": {},
   "cell_type": "markdown",
   "id": "ebbb9f8b-af56-4f03-8031-6a968089ce59",
   "metadata": {},
   "source": [
    "On s'intéresse au prix d'une option européenne (aussi appelé produit dérivé européen) sur le panier de ces $d$ actifs financiers, c'est à dire qu'on veut calculer \n",
    "$$\n",
    "    e^{-rT} \\mathbf{E} \\bigl[ X \\bigr] %\\quad \\text{avec} \\quad g(x) = (x-K)_+ \\quad \\text{ou} \\quad g(x) = (K-x)_+ \n",
    "    \\quad \\text{avec} \\quad \n",
    "    X = \\biggl(\\frac{1}{d} \\sum_{i=1}^d S^i_T  - K\\biggr)_+\n",
    "$$"
   ]
  },
  {
   "cell_type": "code",
   "execution_count": 2,
   "id": "b5ced84e",
   "metadata": {},
   "outputs": [],
   "source": [
    "from BlackScholes import BlackScholes\n",
    "from monte_carlo import monte_carlo\n",
    "from utility import get_vanilla_payoff\n",
    "from typing import Union, Any\n",
    "from numpy.typing import NDArray\n",
    "from numpy import float_"
   ]
  },
  {
   "attachments": {},
   "cell_type": "markdown",
   "id": "30abaa1b",
   "metadata": {},
   "source": [
    "### Parameters initialization"
   ]
  },
  {
   "cell_type": "code",
   "execution_count": 3,
   "id": "915acae1",
   "metadata": {},
   "outputs": [
    {
     "name": "stdout",
     "output_type": "stream",
     "text": [
      "Minimal eigenvalue: 0.16572807176729867\n"
     ]
    }
   ],
   "source": [
    "d = 3\n",
    "vols = np.array([0.2, 0.25, 0.3])\n",
    "S_0 = np.array([100, 90, 110])\n",
    "r = 0.05\n",
    "T = 1.5\n",
    "K = [80, 90, 100, 110, 120]\n",
    "flag = 'c'\n",
    "corr_mat = np.array([\n",
    "    [1, 0.7, 0.8],\n",
    "    [0.7, 1, 0.8],\n",
    "    [0.8, 0.8, 1]\n",
    "])\n",
    "print('Minimal eigenvalue:', np.min(np.linalg.eigvals(corr_mat)))"
   ]
  },
  {
   "attachments": {},
   "cell_type": "markdown",
   "id": "10068b64",
   "metadata": {},
   "source": [
    "### Model initialization"
   ]
  },
  {
   "cell_type": "code",
   "execution_count": 4,
   "id": "2485fdc4",
   "metadata": {},
   "outputs": [],
   "source": [
    "cov_mat = vols[:, None] * corr_mat * vols[None, :]\n",
    "\n",
    "model = BlackScholes(\n",
    "    sigma=cov_mat,\n",
    "    r=r\n",
    ")"
   ]
  },
  {
   "cell_type": "code",
   "execution_count": 30,
   "id": "d9cf8b0d",
   "metadata": {},
   "outputs": [],
   "source": [
    "def MC_basket_price(\n",
    "        T: Union[float, NDArray[float_]],\n",
    "        K: Union[float, NDArray[float_]],\n",
    "        S: Union[float, NDArray[float_]],\n",
    "        flag: str,\n",
    "        model: Any, \n",
    "        n_sample: int, \n",
    "        random_state: np.random.Generator = None\n",
    ") -> Union[float, NDArray[float_]]:\n",
    "    \"\"\"\n",
    "        Calculates the basket option price in the given model via Monte Carlo simulation.\n",
    "\n",
    "        Args:\n",
    "            T: times to maturity.\n",
    "            K: strikes.\n",
    "            S: spot prices at t = 0.\n",
    "            flag: 'c' for calls, 'p' for puts.\n",
    "            model: model to simulate trajectories. Should support the method 'simulate_trajectory(n_sample, t_grid, init_val, random_state).\n",
    "            n_sample: number of the trajectories.\n",
    "            random_state: `np.random.Generator` used for simulation.\n",
    "\n",
    "        Returns:\n",
    "            Monte Carlo price,s and confidence interval,s.\n",
    "    \"\"\"\n",
    "    if random_state is None:\n",
    "        random_state = np.random.default_rng(seed=42)\n",
    "\n",
    "    S_T_sample = model.simulate_trajectory(\n",
    "        n_sample=n_sample,\n",
    "        t_grid=np.array([T]),\n",
    "        init_val=S,\n",
    "        random_state=random_state\n",
    "    ).squeeze() # array of shape (n_sample, dim)\n",
    "    basket_sample = S_T_sample.mean(axis=1)\n",
    "    payoff = get_vanilla_payoff(np.array(K)[None, :], flag)\n",
    "    sample = payoff(np.exp(-r * T) * basket_sample[:, None])\n",
    "    return monte_carlo(sample, axis=0)"
   ]
  },
  {
   "cell_type": "code",
   "execution_count": 33,
   "id": "7a5c55be",
   "metadata": {},
   "outputs": [],
   "source": [
    "n_sample = 10**7\n",
    "rng = np.random.default_rng(seed=0xAB0BA)\n",
    "prices, CI_devs = MC_basket_price(T, K, S_0, flag, model, n_sample, rng)"
   ]
  },
  {
   "cell_type": "code",
   "execution_count": 34,
   "id": "8cac6315",
   "metadata": {},
   "outputs": [
    {
     "name": "stdout",
     "output_type": "stream",
     "text": [
      "Monte Carlo price of the option with strike 80: 23.0967 ± 0.0159\n",
      "Monte Carlo price of the option with strike 90: 16.4536 ± 0.0142\n",
      "Monte Carlo price of the option with strike 100: 11.3181 ± 0.0123\n",
      "Monte Carlo price of the option with strike 110: 7.5605 ± 0.0104\n",
      "Monte Carlo price of the option with strike 120: 4.9324 ± 0.0085\n"
     ]
    }
   ],
   "source": [
    "for strike, price, CI_dev in zip(K, prices, CI_devs):\n",
    "    print(f'Monte Carlo price of the option with strike {strike}:', np.round(price, 4), \"±\", np.round(CI_dev, 4))"
   ]
  },
  {
   "attachments": {},
   "cell_type": "markdown",
   "id": "e1e33cb7-7850-4da4-8039-f3485c81bc81",
   "metadata": {},
   "source": [
    "Implémenter un estimateur Monte Carlo pour calculer au centime près le prix pour différentes valeurs de $K$, $K \\in \\{80, 90, 100, 110, 120\\}$."
   ]
  },
  {
   "attachments": {},
   "cell_type": "markdown",
   "id": "cf3b076c-0055-4280-995f-1e927e31bd54",
   "metadata": {},
   "source": [
    "## Réduction de variance"
   ]
  },
  {
   "attachments": {},
   "cell_type": "markdown",
   "id": "b01dc7a9-7ea7-4d45-a4a1-971039687286",
   "metadata": {},
   "source": [
    "Implémenter les méthodes de réduction de variance suivantes, et comparer les temps de calcul et la complexité: \n",
    "1. Méthode des variables antithétiques en considérant $(W^1_T, \\dots, W^d_T)$ et $(-W^1_T, \\dots, -W^d_T)$,\n",
    "2. Utilisation de la variable de contrôle $Y = \\bigl(\\bar S_0 e^Z  - K\\bigr)_+$ avec $\\bar S_0 = \\frac{1}{d} \\sum_{i=1}^d S^i_0$ et $Z = \\sum_{i=1}^d a^i_0 \\big(\\mu_i T + \\sigma_i \\sqrt{T} \\tilde G_i\\big)$,\n",
    "3. Un mélange des 2 méthodes précédentes."
   ]
  },
  {
   "attachments": {},
   "cell_type": "markdown",
   "id": "4d672615",
   "metadata": {},
   "source": [
    "ToDo:"
   ]
  },
  {
   "attachments": {},
   "cell_type": "markdown",
   "id": "b984d080",
   "metadata": {},
   "source": [
    "1. Antithetic variables for Brownian motion sampling\n",
    "2. Add control variable to the method\n",
    "3. Justify the choice of $\\mu, a_0$.\n",
    "4. Rewrite Monte Carlo simulation as a class."
   ]
  }
 ],
 "metadata": {
  "kernelspec": {
   "display_name": "Python 3 (ipykernel)",
   "language": "python",
   "name": "python3"
  },
  "language_info": {
   "codemirror_mode": {
    "name": "ipython",
    "version": 3
   },
   "file_extension": ".py",
   "mimetype": "text/x-python",
   "name": "python",
   "nbconvert_exporter": "python",
   "pygments_lexer": "ipython3",
   "version": "3.8.5"
  },
  "toc-autonumbering": true
 },
 "nbformat": 4,
 "nbformat_minor": 5
}
