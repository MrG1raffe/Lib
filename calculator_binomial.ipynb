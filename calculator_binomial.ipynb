{
 "cells": [
  {
   "attachments": {},
   "cell_type": "markdown",
   "metadata": {},
   "source": [
    "## Binomial model"
   ]
  },
  {
   "cell_type": "code",
   "execution_count": 1,
   "metadata": {},
   "outputs": [],
   "source": [
    "import numpy as np\n",
    "from Binomial import Binomial"
   ]
  },
  {
   "attachments": {},
   "cell_type": "markdown",
   "metadata": {},
   "source": [
    "### Vanilla option"
   ]
  },
  {
   "cell_type": "code",
   "execution_count": 19,
   "metadata": {},
   "outputs": [],
   "source": [
    "T = 3\n",
    "S0=99.98\n",
    "K=100.90\n",
    "r=0.003\n",
    "u=2.04 * 0.01\n",
    "d=-1.81 * 0.01\n",
    "flag = 'p'"
   ]
  },
  {
   "cell_type": "code",
   "execution_count": 21,
   "metadata": {},
   "outputs": [
    {
     "name": "stdout",
     "output_type": "stream",
     "text": [
      "Analytic price: 1.417321424803665\n"
     ]
    }
   ],
   "source": [
    "model = Binomial(u=u, d=d, r=r)\n",
    "print('Analytic price:', model.vanilla_price(T, K, S0, flag))"
   ]
  },
  {
   "attachments": {},
   "cell_type": "markdown",
   "metadata": {},
   "source": [
    "Monte Carlo check"
   ]
  },
  {
   "cell_type": "code",
   "execution_count": 22,
   "metadata": {},
   "outputs": [
    {
     "name": "stdout",
     "output_type": "stream",
     "text": [
      "Monte Carlo price: 1.414066497044875\n"
     ]
    }
   ],
   "source": [
    "rng = np.random.default_rng(seed=0xB0BAC0BA)\n",
    "p, q = model._risk_neutral_proba()\n",
    "\n",
    "n_sample = 10**6\n",
    "steps_up = rng.binomial(n=T, p=p, size=n_sample)\n",
    "S = S0 * (1 + u)**(steps_up) * (1 + d)**(T - steps_up)\n",
    "print('Monte Carlo price:', np.mean(np.maximum(K - S, 0) / (1 + r)**T))"
   ]
  },
  {
   "attachments": {},
   "cell_type": "markdown",
   "metadata": {},
   "source": [
    "### European option with arbitrary payoff"
   ]
  },
  {
   "cell_type": "code",
   "execution_count": 8,
   "metadata": {},
   "outputs": [],
   "source": [
    "T = 5\n",
    "S0=9.98\n",
    "K=100.90\n",
    "r=0.003\n",
    "u=2.04 * 0.01\n",
    "d=-1.81 * 0.01\n",
    "\n",
    "payoff = lambda x: np.maximum(x**2 - K, 0)"
   ]
  },
  {
   "cell_type": "code",
   "execution_count": 9,
   "metadata": {},
   "outputs": [
    {
     "data": {
      "text/plain": [
       "4.620710809731398"
      ]
     },
     "execution_count": 9,
     "metadata": {},
     "output_type": "execute_result"
    }
   ],
   "source": [
    "model.european_option_price(T, S0, payoff)"
   ]
  }
 ],
 "metadata": {
  "kernelspec": {
   "display_name": "base",
   "language": "python",
   "name": "python3"
  },
  "language_info": {
   "codemirror_mode": {
    "name": "ipython",
    "version": 3
   },
   "file_extension": ".py",
   "mimetype": "text/x-python",
   "name": "python",
   "nbconvert_exporter": "python",
   "pygments_lexer": "ipython3",
   "version": "3.8.5"
  },
  "orig_nbformat": 4
 },
 "nbformat": 4,
 "nbformat_minor": 2
}
