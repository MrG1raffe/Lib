{
 "cells": [
  {
   "attachments": {},
   "cell_type": "markdown",
   "metadata": {},
   "source": [
    "## Binomial model"
   ]
  },
  {
   "cell_type": "code",
   "execution_count": 4,
   "metadata": {},
   "outputs": [],
   "source": [
    "import numpy as np\n",
    "from Binomial import Binomial"
   ]
  },
  {
   "attachments": {},
   "cell_type": "markdown",
   "metadata": {},
   "source": [
    "### Vanilla option"
   ]
  },
  {
   "cell_type": "code",
   "execution_count": 12,
   "metadata": {},
   "outputs": [],
   "source": [
    "T = 10\n",
    "S_0=10.09\n",
    "K=99.12\n",
    "r=0.004\n",
    "x=15.98 / 100\n",
    "y=-13.78 / 100\n",
    "\n",
    "flag = 'p'"
   ]
  },
  {
   "cell_type": "code",
   "execution_count": 13,
   "metadata": {},
   "outputs": [
    {
     "name": "stdout",
     "output_type": "stream",
     "text": [
      "Analytic price: 85.15104793213763\n"
     ]
    }
   ],
   "source": [
    "model = Binomial(u=x, d=y, r=r)\n",
    "print('Analytic price:', model.vanilla_price(T, K, S_0, flag))"
   ]
  },
  {
   "cell_type": "code",
   "execution_count": 6,
   "metadata": {},
   "outputs": [
    {
     "data": {
      "text/plain": [
       "(0.5541699142634451, 0.4458300857365549)"
      ]
     },
     "execution_count": 6,
     "metadata": {},
     "output_type": "execute_result"
    }
   ],
   "source": [
    "model._risk_neutral_proba()"
   ]
  },
  {
   "attachments": {},
   "cell_type": "markdown",
   "metadata": {},
   "source": [
    "Monte Carlo check"
   ]
  },
  {
   "cell_type": "code",
   "execution_count": 43,
   "metadata": {},
   "outputs": [
    {
     "name": "stdout",
     "output_type": "stream",
     "text": [
      "Monte Carlo price: 83.41537765547318\n"
     ]
    }
   ],
   "source": [
    "rng = np.random.default_rng(seed=0xB0BAC0BA)\n",
    "p, q = model._risk_neutral_proba()\n",
    "\n",
    "n_sample = 10**7\n",
    "steps_up = rng.binomial(n=T, p=p, size=n_sample)\n",
    "S = S_0 * (1 + x)**(steps_up) * (1 + y)**(T - steps_up)\n",
    "print('Monte Carlo price:', np.mean(np.maximum(K - S, 0) / (1 + r)**T))"
   ]
  },
  {
   "attachments": {},
   "cell_type": "markdown",
   "metadata": {},
   "source": [
    "### European option with arbitrary payoff"
   ]
  },
  {
   "cell_type": "code",
   "execution_count": 34,
   "metadata": {},
   "outputs": [],
   "source": [
    "T = 5\n",
    "S_0=9.98\n",
    "K=100.90\n",
    "r=0.003\n",
    "x=2.04 * 0.01\n",
    "y=-1.81 * 0.01\n",
    "\n",
    "payoff = lambda x: np.maximum(x**2 - K, 0)"
   ]
  },
  {
   "cell_type": "code",
   "execution_count": 35,
   "metadata": {},
   "outputs": [
    {
     "data": {
      "text/plain": [
       "4.620710809731398"
      ]
     },
     "execution_count": 35,
     "metadata": {},
     "output_type": "execute_result"
    }
   ],
   "source": [
    "model = Binomial(u=x, d=y, r=r)\n",
    "model.european_option_price(T, S_0, payoff)"
   ]
  }
 ],
 "metadata": {
  "kernelspec": {
   "display_name": "base",
   "language": "python",
   "name": "python3"
  },
  "language_info": {
   "codemirror_mode": {
    "name": "ipython",
    "version": 3
   },
   "file_extension": ".py",
   "mimetype": "text/x-python",
   "name": "python",
   "nbconvert_exporter": "python",
   "pygments_lexer": "ipython3",
   "version": "3.8.5"
  },
  "orig_nbformat": 4
 },
 "nbformat": 4,
 "nbformat_minor": 2
}
