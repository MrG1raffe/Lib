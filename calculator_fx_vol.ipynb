{
 "cells": [
  {
   "cell_type": "code",
   "execution_count": 1,
   "metadata": {},
   "outputs": [],
   "source": [
    "import pandas as pd\n",
    "import numpy as np\n",
    "from scipy.interpolate import interp1d\n",
    "from scipy.optimize import fsolve\n",
    "from Black76 import Black76"
   ]
  },
  {
   "cell_type": "code",
   "execution_count": 2,
   "metadata": {},
   "outputs": [
    {
     "data": {
      "text/html": [
       "<div>\n",
       "<style scoped>\n",
       "    .dataframe tbody tr th:only-of-type {\n",
       "        vertical-align: middle;\n",
       "    }\n",
       "\n",
       "    .dataframe tbody tr th {\n",
       "        vertical-align: top;\n",
       "    }\n",
       "\n",
       "    .dataframe thead th {\n",
       "        text-align: right;\n",
       "    }\n",
       "</style>\n",
       "<table border=\"1\" class=\"dataframe\">\n",
       "  <thead>\n",
       "    <tr style=\"text-align: right;\">\n",
       "      <th></th>\n",
       "      <th>Strike</th>\n",
       "      <th>IV</th>\n",
       "    </tr>\n",
       "  </thead>\n",
       "  <tbody>\n",
       "    <tr>\n",
       "      <th>0</th>\n",
       "      <td>33.882423</td>\n",
       "      <td>1.020475</td>\n",
       "    </tr>\n",
       "    <tr>\n",
       "      <th>1</th>\n",
       "      <td>33.977522</td>\n",
       "      <td>1.019650</td>\n",
       "    </tr>\n",
       "    <tr>\n",
       "      <th>2</th>\n",
       "      <td>34.072888</td>\n",
       "      <td>1.018825</td>\n",
       "    </tr>\n",
       "    <tr>\n",
       "      <th>3</th>\n",
       "      <td>34.168521</td>\n",
       "      <td>1.018000</td>\n",
       "    </tr>\n",
       "    <tr>\n",
       "      <th>4</th>\n",
       "      <td>34.264423</td>\n",
       "      <td>1.017174</td>\n",
       "    </tr>\n",
       "    <tr>\n",
       "      <th>...</th>\n",
       "      <td>...</td>\n",
       "      <td>...</td>\n",
       "    </tr>\n",
       "    <tr>\n",
       "      <th>995</th>\n",
       "      <td>550.972649</td>\n",
       "      <td>0.883735</td>\n",
       "    </tr>\n",
       "    <tr>\n",
       "      <th>996</th>\n",
       "      <td>552.519083</td>\n",
       "      <td>0.884475</td>\n",
       "    </tr>\n",
       "    <tr>\n",
       "      <th>997</th>\n",
       "      <td>554.069857</td>\n",
       "      <td>0.885214</td>\n",
       "    </tr>\n",
       "    <tr>\n",
       "      <th>998</th>\n",
       "      <td>555.624984</td>\n",
       "      <td>0.885952</td>\n",
       "    </tr>\n",
       "    <tr>\n",
       "      <th>999</th>\n",
       "      <td>557.184475</td>\n",
       "      <td>0.886690</td>\n",
       "    </tr>\n",
       "  </tbody>\n",
       "</table>\n",
       "<p>1000 rows × 2 columns</p>\n",
       "</div>"
      ],
      "text/plain": [
       "         Strike        IV\n",
       "0     33.882423  1.020475\n",
       "1     33.977522  1.019650\n",
       "2     34.072888  1.018825\n",
       "3     34.168521  1.018000\n",
       "4     34.264423  1.017174\n",
       "..          ...       ...\n",
       "995  550.972649  0.883735\n",
       "996  552.519083  0.884475\n",
       "997  554.069857  0.885214\n",
       "998  555.624984  0.885952\n",
       "999  557.184475  0.886690\n",
       "\n",
       "[1000 rows x 2 columns]"
      ]
     },
     "execution_count": 2,
     "metadata": {},
     "output_type": "execute_result"
    }
   ],
   "source": [
    "df = pd.read_csv('data/data_fx_vol.csv', sep=';')\n",
    "df.drop(columns=['Unnamed: 2'], inplace=True)\n",
    "df"
   ]
  },
  {
   "attachments": {},
   "cell_type": "markdown",
   "metadata": {},
   "source": [
    "## ToDo: Rewrite as a class VolSmile or Volsurface."
   ]
  },
  {
   "cell_type": "code",
   "execution_count": 6,
   "metadata": {},
   "outputs": [],
   "source": [
    "T=0.520000\n",
    "F0=124.420000\n",
    "flag = 'c'\n",
    "target_delta = 0.75"
   ]
  },
  {
   "cell_type": "code",
   "execution_count": 9,
   "metadata": {},
   "outputs": [],
   "source": [
    "IV_interp = interp1d(df.Strike, df.IV)\n",
    "\n",
    "def get_vol_from_delta(\n",
    "    delta: float\n",
    "):\n",
    "    def BS_delta(K, flag):\n",
    "        return Black76(IV_interp(K)).delta(T, K, F0, flag)\n",
    "\n",
    "    K_target = fsolve(\n",
    "        func=lambda x: BS_delta(x, flag) - delta, \n",
    "        x0=F0\n",
    "    )\n",
    "    return IV_interp(K_target)[0]\n",
    "\n",
    "def risk_reversal():\n",
    "    return get_vol_from_delta(0.25) - get_vol_from_delta(0.75)\n",
    "\n",
    "def butterfly():\n",
    "    return 0.5 * (get_vol_from_delta(0.25) + get_vol_from_delta(0.75)) - get_vol_from_delta(0.5)"
   ]
  },
  {
   "cell_type": "code",
   "execution_count": 16,
   "metadata": {},
   "outputs": [
    {
     "name": "stdout",
     "output_type": "stream",
     "text": [
      "Risk reversal = -0.062030061712471274\n",
      "Butterfly = 0.03277129851710392\n"
     ]
    }
   ],
   "source": [
    "print('Risk reversal =', risk_reversal())\n",
    "print('Butterfly =', butterfly())"
   ]
  }
 ],
 "metadata": {
  "kernelspec": {
   "display_name": "base",
   "language": "python",
   "name": "python3"
  },
  "language_info": {
   "codemirror_mode": {
    "name": "ipython",
    "version": 3
   },
   "file_extension": ".py",
   "mimetype": "text/x-python",
   "name": "python",
   "nbconvert_exporter": "python",
   "pygments_lexer": "ipython3",
   "version": "3.8.5"
  },
  "orig_nbformat": 4
 },
 "nbformat": 4,
 "nbformat_minor": 2
}
