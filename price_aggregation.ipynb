{
 "cells": [
  {
   "cell_type": "code",
   "execution_count": 53,
   "metadata": {},
   "outputs": [],
   "source": [
    "import numpy as np\n",
    "import pandas as pd"
   ]
  },
  {
   "cell_type": "code",
   "execution_count": 54,
   "metadata": {},
   "outputs": [
    {
     "data": {
      "text/html": [
       "<div>\n",
       "<style scoped>\n",
       "    .dataframe tbody tr th:only-of-type {\n",
       "        vertical-align: middle;\n",
       "    }\n",
       "\n",
       "    .dataframe tbody tr th {\n",
       "        vertical-align: top;\n",
       "    }\n",
       "\n",
       "    .dataframe thead th {\n",
       "        text-align: right;\n",
       "    }\n",
       "</style>\n",
       "<table border=\"1\" class=\"dataframe\">\n",
       "  <thead>\n",
       "    <tr style=\"text-align: right;\">\n",
       "      <th></th>\n",
       "      <th>Price</th>\n",
       "      <th>Volume</th>\n",
       "    </tr>\n",
       "  </thead>\n",
       "  <tbody>\n",
       "    <tr>\n",
       "      <th>0</th>\n",
       "      <td>118.208729</td>\n",
       "      <td>0.154860</td>\n",
       "    </tr>\n",
       "    <tr>\n",
       "      <th>1</th>\n",
       "      <td>118.698754</td>\n",
       "      <td>0.154970</td>\n",
       "    </tr>\n",
       "    <tr>\n",
       "      <th>2</th>\n",
       "      <td>119.563290</td>\n",
       "      <td>0.446283</td>\n",
       "    </tr>\n",
       "    <tr>\n",
       "      <th>3</th>\n",
       "      <td>118.226819</td>\n",
       "      <td>0.255762</td>\n",
       "    </tr>\n",
       "    <tr>\n",
       "      <th>4</th>\n",
       "      <td>118.563355</td>\n",
       "      <td>0.170489</td>\n",
       "    </tr>\n",
       "    <tr>\n",
       "      <th>...</th>\n",
       "      <td>...</td>\n",
       "      <td>...</td>\n",
       "    </tr>\n",
       "    <tr>\n",
       "      <th>146</th>\n",
       "      <td>116.886443</td>\n",
       "      <td>0.290614</td>\n",
       "    </tr>\n",
       "    <tr>\n",
       "      <th>147</th>\n",
       "      <td>118.961094</td>\n",
       "      <td>0.122956</td>\n",
       "    </tr>\n",
       "    <tr>\n",
       "      <th>148</th>\n",
       "      <td>120.021331</td>\n",
       "      <td>0.181762</td>\n",
       "    </tr>\n",
       "    <tr>\n",
       "      <th>149</th>\n",
       "      <td>118.636822</td>\n",
       "      <td>0.136985</td>\n",
       "    </tr>\n",
       "    <tr>\n",
       "      <th>150</th>\n",
       "      <td>119.303632</td>\n",
       "      <td>0.118984</td>\n",
       "    </tr>\n",
       "  </tbody>\n",
       "</table>\n",
       "<p>151 rows × 2 columns</p>\n",
       "</div>"
      ],
      "text/plain": [
       "          Price    Volume\n",
       "0    118.208729  0.154860\n",
       "1    118.698754  0.154970\n",
       "2    119.563290  0.446283\n",
       "3    118.226819  0.255762\n",
       "4    118.563355  0.170489\n",
       "..          ...       ...\n",
       "146  116.886443  0.290614\n",
       "147  118.961094  0.122956\n",
       "148  120.021331  0.181762\n",
       "149  118.636822  0.136985\n",
       "150  119.303632  0.118984\n",
       "\n",
       "[151 rows x 2 columns]"
      ]
     },
     "execution_count": 54,
     "metadata": {},
     "output_type": "execute_result"
    }
   ],
   "source": [
    "df = pd.read_csv('data/data_volumes.csv', sep=';')\n",
    "df.drop(columns={'Unnamed: 2': True}, inplace=True)\n",
    "df"
   ]
  },
  {
   "cell_type": "code",
   "execution_count": 55,
   "metadata": {},
   "outputs": [],
   "source": [
    "def volume_weighted_mean_price(\n",
    "    df: pd.DataFrame\n",
    ") -> float:\n",
    "    return (df.Price * df.Volume).sum() / df.Volume.sum()\n",
    "\n",
    "\n",
    "def volume_weighted_median_price(\n",
    "    df: pd.DataFrame\n",
    ") -> float:\n",
    "    df_sorted = df.sort_values(by='Price').reset_index()\n",
    "    df_sorted['AccumulatedVol'] = df_sorted.Volume.cumsum() / df_sorted.Volume.sum()\n",
    "    idx = np.where(df_sorted.AccumulatedVol >= 0.5)[0][0]\n",
    "    interp_weight = (0.5 - df_sorted.AccumulatedVol[idx-1]) / (df_sorted.AccumulatedVol[idx] - df_sorted.AccumulatedVol[idx-1])\n",
    "    return (1 - interp_weight) * df_sorted.Price[idx - 1] + interp_weight * df_sorted.Price[idx]"
   ]
  },
  {
   "cell_type": "code",
   "execution_count": 56,
   "metadata": {},
   "outputs": [
    {
     "data": {
      "text/plain": [
       "118.96214741469026"
      ]
     },
     "execution_count": 56,
     "metadata": {},
     "output_type": "execute_result"
    }
   ],
   "source": [
    "volume_weighted_mean_price(df)"
   ]
  },
  {
   "cell_type": "code",
   "execution_count": 57,
   "metadata": {},
   "outputs": [
    {
     "data": {
      "text/plain": [
       "118.83662555580223"
      ]
     },
     "execution_count": 57,
     "metadata": {},
     "output_type": "execute_result"
    }
   ],
   "source": [
    "volume_weighted_median_price(df)"
   ]
  }
 ],
 "metadata": {
  "kernelspec": {
   "display_name": "base",
   "language": "python",
   "name": "python3"
  },
  "language_info": {
   "codemirror_mode": {
    "name": "ipython",
    "version": 3
   },
   "file_extension": ".py",
   "mimetype": "text/x-python",
   "name": "python",
   "nbconvert_exporter": "python",
   "pygments_lexer": "ipython3",
   "version": "3.8.5"
  },
  "orig_nbformat": 4
 },
 "nbformat": 4,
 "nbformat_minor": 2
}
